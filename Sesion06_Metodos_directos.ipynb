{
 "cells": [
  {
   "cell_type": "markdown",
   "metadata": {},
   "source": [
    "<h1 align=\"center\">Modelamiento y Simulación</h1>\n",
    "<h1 align=\"center\">Sesión 06 - Métodos direcots</h1>\n",
    "<h1 align=\"center\">2021/02</h1>\n",
    "<h1 align=\"center\">MEDELLÍN - COLOMBIA </h1>"
   ]
  },
  {
   "cell_type": "markdown",
   "metadata": {},
   "source": [
    "<table>\n",
    " <tr align=left><td><img align=left src=\"https://github.com/carlosalvarezh/CFD_Applied/blob/master/figs/CC-BY.png?raw=true\">\n",
    " <td>This lecture by Tim Fuller is licensed under the\n",
    "<a rel=\"license\" href=\"http://creativecommons.org/licenses/by/4.0/\">Creative Commons Attribution 4.0 International License</a>.  All code examples are also licensed under the [MIT license](http://opensource.org/licenses/MIT).</td>\n",
    "</table>"
   ]
  },
  {
   "cell_type": "markdown",
   "metadata": {
    "toc": true
   },
   "source": [
    "<h1>Tabla de contenidos<span class=\"tocSkip\"></span></h1>\n",
    "<div class=\"toc\"><ul class=\"toc-item\"><li><span><a href=\"#Introducción-al-FEA\" data-toc-modified-id=\"Introducción-al-FEA-1\"><span class=\"toc-item-num\">1&nbsp;&nbsp;</span>Introducción al FEA</a></span></li><li><span><a href=\"#Método-directo-de-la-rigidez\" data-toc-modified-id=\"Método-directo-de-la-rigidez-2\"><span class=\"toc-item-num\">2&nbsp;&nbsp;</span>Método directo de la rigidez</a></span><ul class=\"toc-item\"><li><span><a href=\"#Ejemplo-1:-Barra-cónica\" data-toc-modified-id=\"Ejemplo-1:-Barra-cónica-2.1\"><span class=\"toc-item-num\">2.1&nbsp;&nbsp;</span>Ejemplo 1: Barra cónica</a></span><ul class=\"toc-item\"><li><span><a href=\"#Fase-de-preprocesamiento\" data-toc-modified-id=\"Fase-de-preprocesamiento-2.1.1\"><span class=\"toc-item-num\">2.1.1&nbsp;&nbsp;</span>Fase de preprocesamiento</a></span><ul class=\"toc-item\"><li><span><a href=\"#Paso-1:-Discretizar-y-seleccionar-el-tipo-de-elemento\" data-toc-modified-id=\"Paso-1:-Discretizar-y-seleccionar-el-tipo-de-elemento-2.1.1.1\"><span class=\"toc-item-num\">2.1.1.1&nbsp;&nbsp;</span>Paso 1: Discretizar y seleccionar el tipo de elemento</a></span></li><li><span><a href=\"#Paso-2:-seleccione-una-función-de-desplazamiento\" data-toc-modified-id=\"Paso-2:-seleccione-una-función-de-desplazamiento-2.1.1.2\"><span class=\"toc-item-num\">2.1.1.2&nbsp;&nbsp;</span>Paso 2: seleccione una función de desplazamiento</a></span></li><li><span><a href=\"#Paso-3:-definir-la-tensión-/-desplazamiento-y-la-relación-tensión-/-deformación\" data-toc-modified-id=\"Paso-3:-definir-la-tensión-/-desplazamiento-y-la-relación-tensión-/-deformación-2.1.1.3\"><span class=\"toc-item-num\">2.1.1.3&nbsp;&nbsp;</span>Paso 3: definir la tensión / desplazamiento y la relación tensión / deformación</a></span></li><li><span><a href=\"#Paso-4:-Derivar-las-ecuaciones-y-la-matriz-de-rigidez-del-elemento\" data-toc-modified-id=\"Paso-4:-Derivar-las-ecuaciones-y-la-matriz-de-rigidez-del-elemento-2.1.1.4\"><span class=\"toc-item-num\">2.1.1.4&nbsp;&nbsp;</span>Paso 4: Derivar las ecuaciones y la matriz de rigidez del elemento</a></span></li><li><span><a href=\"#Paso-5:-Ensamblaje-de-ecuaciones-de-elementos-en-ecuaciones-globales\" data-toc-modified-id=\"Paso-5:-Ensamblaje-de-ecuaciones-de-elementos-en-ecuaciones-globales-2.1.1.5\"><span class=\"toc-item-num\">2.1.1.5&nbsp;&nbsp;</span>Paso 5: Ensamblaje de ecuaciones de elementos en ecuaciones globales</a></span></li><li><span><a href=\"#Paso-5a:-Ensamblaje-de-ecuaciones-de-elementos-en-ecuaciones-globales---Superposición\" data-toc-modified-id=\"Paso-5a:-Ensamblaje-de-ecuaciones-de-elementos-en-ecuaciones-globales---Superposición-2.1.1.6\"><span class=\"toc-item-num\">2.1.1.6&nbsp;&nbsp;</span>Paso 5a: Ensamblaje de ecuaciones de elementos en ecuaciones globales - Superposición</a></span></li><li><span><a href=\"#Mapeo-de-los-grados-de-libertad\" data-toc-modified-id=\"Mapeo-de-los-grados-de-libertad-2.1.1.7\"><span class=\"toc-item-num\">2.1.1.7&nbsp;&nbsp;</span>Mapeo de los grados de libertad</a></span></li><li><span><a href=\"#Paso-6:-Aplicar-condiciones-de-contorno\" data-toc-modified-id=\"Paso-6:-Aplicar-condiciones-de-contorno-2.1.1.8\"><span class=\"toc-item-num\">2.1.1.8&nbsp;&nbsp;</span>Paso 6: Aplicar condiciones de contorno</a></span></li></ul></li><li><span><a href=\"#Fase-de-solución\" data-toc-modified-id=\"Fase-de-solución-2.1.2\"><span class=\"toc-item-num\">2.1.2&nbsp;&nbsp;</span>Fase de solución</a></span><ul class=\"toc-item\"><li><span><a href=\"#Paso-1:-Resolución-para-los-desplazamientos-nodales\" data-toc-modified-id=\"Paso-1:-Resolución-para-los-desplazamientos-nodales-2.1.2.1\"><span class=\"toc-item-num\">2.1.2.1&nbsp;&nbsp;</span>Paso 1: Resolución para los desplazamientos nodales</a></span></li><li><span><a href=\"#Paso-2:-Cálculo-de-las-reacciones\" data-toc-modified-id=\"Paso-2:-Cálculo-de-las-reacciones-2.1.2.2\"><span class=\"toc-item-num\">2.1.2.2&nbsp;&nbsp;</span>Paso 2: Cálculo de las reacciones</a></span></li></ul></li><li><span><a href=\"#Fase-de-postprocesamiento\" data-toc-modified-id=\"Fase-de-postprocesamiento-2.1.3\"><span class=\"toc-item-num\">2.1.3&nbsp;&nbsp;</span>Fase de postprocesamiento</a></span><ul class=\"toc-item\"><li><span><a href=\"#Paso-1:-Búsqueda-de-los-esfuerzos-y-deformaciones-a-nivel-de-elementos-y-otra-información-importante\" data-toc-modified-id=\"Paso-1:-Búsqueda-de-los-esfuerzos-y-deformaciones-a-nivel-de-elementos-y-otra-información-importante-2.1.3.1\"><span class=\"toc-item-num\">2.1.3.1&nbsp;&nbsp;</span>Paso 1: Búsqueda de los esfuerzos y deformaciones a nivel de elementos y otra información importante</a></span></li></ul></li></ul></li><li><span><a href=\"#Ejemplo-2:-Red-de-resortes-en-paralelo\" data-toc-modified-id=\"Ejemplo-2:-Red-de-resortes-en-paralelo-2.2\"><span class=\"toc-item-num\">2.2&nbsp;&nbsp;</span>Ejemplo 2: Red de resortes en paralelo</a></span><ul class=\"toc-item\"><li><span><a href=\"#Fase-de-Preprocesamiento\" data-toc-modified-id=\"Fase-de-Preprocesamiento-2.2.1\"><span class=\"toc-item-num\">2.2.1&nbsp;&nbsp;</span>Fase de Preprocesamiento</a></span><ul class=\"toc-item\"><li><span><a href=\"#Aplicación-de-las-condiciones-de-contorno\" data-toc-modified-id=\"Aplicación-de-las-condiciones-de-contorno-2.2.1.1\"><span class=\"toc-item-num\">2.2.1.1&nbsp;&nbsp;</span>Aplicación de las condiciones de contorno</a></span></li></ul></li></ul></li><li><span><a href=\"#Ejemplo-3:-Desplazamientos-prescritos\" data-toc-modified-id=\"Ejemplo-3:-Desplazamientos-prescritos-2.3\"><span class=\"toc-item-num\">2.3&nbsp;&nbsp;</span>Ejemplo 3: Desplazamientos prescritos</a></span><ul class=\"toc-item\"><li><span><a href=\"#Fase-de-preprocesamiento\" data-toc-modified-id=\"Fase-de-preprocesamiento-2.3.1\"><span class=\"toc-item-num\">2.3.1&nbsp;&nbsp;</span>Fase de preprocesamiento</a></span><ul class=\"toc-item\"><li><span><a href=\"#Aplicación-de-las-condiciones-de-contorno\" data-toc-modified-id=\"Aplicación-de-las-condiciones-de-contorno-2.3.1.1\"><span class=\"toc-item-num\">2.3.1.1&nbsp;&nbsp;</span>Aplicación de las condiciones de contorno</a></span></li></ul></li></ul></li><li><span><a href=\"#Ejemplo-4:-Peso-propio\" data-toc-modified-id=\"Ejemplo-4:-Peso-propio-2.4\"><span class=\"toc-item-num\">2.4&nbsp;&nbsp;</span>Ejemplo 4: Peso propio</a></span><ul class=\"toc-item\"><li><span><a href=\"#Tipos-de-cargas\" data-toc-modified-id=\"Tipos-de-cargas-2.4.1\"><span class=\"toc-item-num\">2.4.1&nbsp;&nbsp;</span>Tipos de cargas</a></span></li><li><span><a href=\"#Fuerzas-de-cuerpo-a-nivel-de-elemento\" data-toc-modified-id=\"Fuerzas-de-cuerpo-a-nivel-de-elemento-2.4.2\"><span class=\"toc-item-num\">2.4.2&nbsp;&nbsp;</span>Fuerzas de cuerpo a nivel de elemento</a></span></li><li><span><a href=\"#Fuerzas-nodales\" data-toc-modified-id=\"Fuerzas-nodales-2.4.3\"><span class=\"toc-item-num\">2.4.3&nbsp;&nbsp;</span>Fuerzas nodales</a></span></li></ul></li></ul></li><li><span><a href=\"#Implementación-computacional-del-método-directo-de-la-rigidez\" data-toc-modified-id=\"Implementación-computacional-del-método-directo-de-la-rigidez-3\"><span class=\"toc-item-num\">3&nbsp;&nbsp;</span>Implementación computacional del método directo de la rigidez</a></span><ul class=\"toc-item\"><li><span><a href=\"#Preprocesamiento\" data-toc-modified-id=\"Preprocesamiento-3.1\"><span class=\"toc-item-num\">3.1&nbsp;&nbsp;</span>Preprocesamiento</a></span><ul class=\"toc-item\"><li><span><a href=\"#Especificación-de-la-malla\" data-toc-modified-id=\"Especificación-de-la-malla-3.1.1\"><span class=\"toc-item-num\">3.1.1&nbsp;&nbsp;</span>Especificación de la malla</a></span></li><li><span><a href=\"#Tabla-de-conectividades\" data-toc-modified-id=\"Tabla-de-conectividades-3.1.2\"><span class=\"toc-item-num\">3.1.2&nbsp;&nbsp;</span>Tabla de conectividades</a></span></li><li><span><a href=\"#Vertices\" data-toc-modified-id=\"Vertices-3.1.3\"><span class=\"toc-item-num\">3.1.3&nbsp;&nbsp;</span>Vertices</a></span></li></ul></li><li><span><a href=\"#Restricciones-y-cargas\" data-toc-modified-id=\"Restricciones-y-cargas-3.2\"><span class=\"toc-item-num\">3.2&nbsp;&nbsp;</span>Restricciones y cargas</a></span></li><li><span><a href=\"#Fase-de-la-solución\" data-toc-modified-id=\"Fase-de-la-solución-3.3\"><span class=\"toc-item-num\">3.3&nbsp;&nbsp;</span>Fase de la solución</a></span><ul class=\"toc-item\"><li><span><a href=\"#Ensamblaje-de-las-ecuaciones-globales\" data-toc-modified-id=\"Ensamblaje-de-las-ecuaciones-globales-3.3.1\"><span class=\"toc-item-num\">3.3.1&nbsp;&nbsp;</span>Ensamblaje de las ecuaciones globales</a></span></li></ul></li><li><span><a href=\"#Aplicación-de-las-condiciones-de-contorno\" data-toc-modified-id=\"Aplicación-de-las-condiciones-de-contorno-3.4\"><span class=\"toc-item-num\">3.4&nbsp;&nbsp;</span>Aplicación de las condiciones de contorno</a></span></li></ul></li><li><span><a href=\"#Código-de-Elemento-finito-lineal\" data-toc-modified-id=\"Código-de-Elemento-finito-lineal-4\"><span class=\"toc-item-num\">4&nbsp;&nbsp;</span>Código de Elemento finito lineal</a></span><ul class=\"toc-item\"><li><span><a href=\"#Ejemplo-completo\" data-toc-modified-id=\"Ejemplo-completo-4.1\"><span class=\"toc-item-num\">4.1&nbsp;&nbsp;</span>Ejemplo completo</a></span></li><li><span><a href=\"#Un-código-de-barras-uniforme\" data-toc-modified-id=\"Un-código-de-barras-uniforme-4.2\"><span class=\"toc-item-num\">4.2&nbsp;&nbsp;</span>Un código de barras uniforme</a></span></li></ul></li></ul></div>"
   ]
  },
  {
   "cell_type": "markdown",
   "metadata": {},
   "source": [
    "## Introducción al FEA"
   ]
  },
  {
   "cell_type": "markdown",
   "metadata": {},
   "source": [
    "Los pasos generales involucardos en un problema usando el método de los elementos finitos son:"
   ]
  },
  {
   "cell_type": "markdown",
   "metadata": {},
   "source": [
    "***Fase de preprocesamiento fase***\n",
    "\n",
    "1. Discretice el dominio del problema y elija el tipo de elemento\n",
    "2. Suponga una solución que se aproxime al comportamiento del elemento.\n",
    "3. Definir las relaciones tensión / desplazamiento y tensión / tensión\n",
    "4. Derivar la matriz de rigidez del elemento y las ecuaciones.\n",
    "5. Ensamblar ecuaciones de elementos en ecuaciones globales\n",
    "6. Introducir condiciones de contorno\n",
    "\n",
    "***Fase de solución***\n",
    "\n",
    "1. Resuelve los grados de libertad desconocidos.\n",
    "2. Calcular reacciones\n",
    "\n",
    "***Fase de posprocesamiento***\n",
    "\n",
    "1. Encuentre tensiones y tensiones de elementos y otra información importante.\n",
    "2. Interpretar los resultados "
   ]
  },
  {
   "cell_type": "markdown",
   "metadata": {},
   "source": [
    "## Método directo de la rigidez"
   ]
  },
  {
   "cell_type": "markdown",
   "metadata": {},
   "source": [
    "Primero demostramos el proceso de discretización y otros pasos del FEM a través del [método directo de la rigidez](https://en.wikipedia.org/wiki/Direct_stiffness_method) mediante una serie de ejemplos prácticos para los estudiantes de ingeniería mecánica."
   ]
  },
  {
   "cell_type": "markdown",
   "metadata": {},
   "source": [
    "### Ejemplo 1: Barra cónica"
   ]
  },
  {
   "cell_type": "markdown",
   "metadata": {},
   "source": [
    "Considere el problema de encontrar el desplazamiento $\\delta$ en el extremo libre de la barra cónica, causado por la fuerza axial $F$.\n",
    "\n",
    "<p float=\"center\">\n",
    "  <img src=\"https://github.com/carlosalvarezh/Modelamiento_y_Simulacion/blob/main/Figs/S06_F01_tapered_bar.png?raw=true\" width=\"500\" />\n",
    "</p>\n",
    "\n",
    "<div style=\"text-align: right\"> Fuente: <a href=\"https://tiberiomurciagodoy.blogspot.com/2020/06/puente-pearson-por-hugo-rubio-salas.html\">tiberiomurciagody.blogspot</a> </div>\n",
    "\n",
    "Para un ángulo de ahusamiento pequeño podemos obtener una aproximación razonable para el desplazamiento como \n",
    "\n",
    "$$\\delta_{\\scriptscriptstyle\\mathrm{approx}} = \\frac{PL}{A'E}$$\n",
    "\n",
    "\n",
    "donde $A'=A_0/2$. Suponga que el ángulo del ahusamiento no es despreciable y que $E$ no es constante sino que varía a lo largo de la viga. Usemos el método de elementos finitos para encontrar el desplazamiento aproximado a este problema más difícil. Seguiremos los pasos generales del FEM ya descritos.\n"
   ]
  },
  {
   "cell_type": "markdown",
   "metadata": {},
   "source": [
    "#### Fase de preprocesamiento"
   ]
  },
  {
   "cell_type": "markdown",
   "metadata": {},
   "source": [
    "##### Paso 1: Discretizar y seleccionar el tipo de elemento"
   ]
  },
  {
   "cell_type": "markdown",
   "metadata": {},
   "source": [
    "###### Elemento tipo resorte"
   ]
  },
  {
   "cell_type": "markdown",
   "metadata": {},
   "source": [
    "La discretización se logra subdividiendo el dominio del problema en *elementos finitos* conectados por *nodos*, como se muestra a continuación. La viga cónica original se divide en $4$ elementos finitos con $5$ nodos. Cada elemento tiene una longitud $1$ y un área de sección transversal uniforme $A$ representada por el área promedio de las secciones transversales en los nodos. Elegimos para nuestro elemento el tipo de resorte. El elemento de resorte se elige por su simplicidad de comprensión e implementación. A medida que avance el semestre utilizaremos otros elementos más sofisticados. Sin embargo, por ahora, el elemento de resorte es suficiente para ayudarnos a comprender los pasos generales del FEM.\n",
    "\n",
    "<p float=\"center\">\n",
    "  <img src=\"https://github.com/carlosalvarezh/Modelamiento_y_Simulacion/blob/main/Figs/S06_F02_tapered_bar_disc.png?raw=true\" width=\"350\" />\n",
    "</p>\n",
    "\n",
    "<div style=\"text-align: right\"> Fuente: <a href=\"https://tiberiomurciagodoy.blogspot.com/2020/06/puente-pearson-por-hugo-rubio-salas.html\">tiberiomurciagody.blogspot</a> </div>\n",
    "\n",
    "Nos concentramos ahora en el elemento de resorte elegido. Aíslemos un elemento de las coordenadas globales $x$ que se muestran y colóquelo en su propio sistema de coordenadas local $\\hat{x}$ y estudiemos sus propiedades allí.\n",
    "\n",
    "<p float=\"center\">\n",
    "  <img src=\"https://github.com/carlosalvarezh/Modelamiento_y_Simulacion/blob/main/Figs/S06_F03_springelem12.png?raw=true\" width=\"350\" />\n",
    "</p>\n",
    "\n",
    "<div style=\"text-align: right\"> Fuente: <a href=\"https://tiberiomurciagodoy.blogspot.com/2020/06/puente-pearson-por-hugo-rubio-salas.html\">tiberiomurciagody.blogspot</a> </div>\n",
    "\n",
    "Tome nota de la nueva sintaxis. Las cantidades sombreadas ($\\hat{f}$,$\\hat{u}$) se calculan con respecto a la coordenada local $x$. Es decir, $\\hat{x}_1=0$ y $\\hat{x}_2 = L$, donde $L$ es la longitud del elemento. También se muestra otra notación alternativa: la de etiquetar explícitamente el número de elemento como un superíndice de la propiedad."
   ]
  },
  {
   "cell_type": "markdown",
   "metadata": {},
   "source": [
    "###### Propiedades del elemento tipo resorte"
   ]
  },
  {
   "cell_type": "markdown",
   "metadata": {},
   "source": [
    "- Dos nodos por elemento\n",
    "\n",
    "- Un grado de libertad de traslación en cada nodo, lo que significa que cada nodo puede desplazarse solo a lo largo del eje del resorte.\n",
    "\n",
    "\n",
    "- Cada elemento de resorte tiene un total de dos grados de libertad.\n",
    "\n",
    "***Observación***\n",
    "\n",
    "Distinguimos entre grados del sistema, grados de libertad del elemento y grados de libertad del nodo. En general, un nodo tiene $n_{\\text{dof}}^{\\text{n}}$ grados de libertad; un elemento tiene $n_{\\text{dof}}^{\\text{e}}=n \\times n_{\\text{dof}}^{\\text{n}} $ grados de libertad, donde $n$ es el número de nodos que definen el elemento; y el sistema tiene $n_{\\text{dof}}^{\\text{sys}} = N \\times n_{\\text{dof}}^{\\text{n}}$ grados de libertad, donde $N$ es el número total de nodos. Volveremos a la importancia de estas declaraciones cuando analicemos la implementación computacional.\n",
    "\n",
    "Para los siguientes pasos, consideraremos solo uno de los cuatro elementos en nuestro dominio de problemas discretizados. Posteriormente tendremos en cuenta los demás elementos. Elijamos el elemento dos\n",
    "\n",
    "<p float=\"center\">\n",
    "  <img src=\"https://github.com/carlosalvarezh/Modelamiento_y_Simulacion/blob/main/Figs/S06_F04_springelem212.png?raw=true\" width=\"350\" />\n",
    "</p>\n",
    "\n",
    "<div style=\"text-align: right\"> Fuente: <a href=\"https://tiberiomurciagodoy.blogspot.com/2020/06/puente-pearson-por-hugo-rubio-salas.html\"></a> </div>"
   ]
  },
  {
   "cell_type": "markdown",
   "metadata": {},
   "source": [
    "##### Paso 2: seleccione una función de desplazamiento"
   ]
  },
  {
   "cell_type": "markdown",
   "metadata": {},
   "source": [
    "En el método de rigidez directa que cubrimos hoy, la selección de una función de desplazamiento no es necesaria. Por lo tanto, omitiremos este paso y lo guardaremos para una lección posterior."
   ]
  },
  {
   "cell_type": "markdown",
   "metadata": {},
   "source": [
    "##### Paso 3: definir la tensión / desplazamiento y la relación tensión / deformación"
   ]
  },
  {
   "cell_type": "markdown",
   "metadata": {},
   "source": [
    "Recuerde de la física elemental que la relación de estiramiento de la fuerza para un resorte ideal, asumiendo pequeños desplazamientos, está dada por $F=k\\delta$ donde $k$ es la constante del resorte y $\\delta$ es el desplazamiento. Al observar el resorte estirado, el desplazamiento $\\delta$ es\n",
    "\n",
    "$$\n",
    "\\delta = u_2^{(2)}  - u_1^{(2)}\n",
    "$$\n",
    "\n",
    "y \n",
    "\n",
    "$$\n",
    "f = k^{(2)}\\left(u_2^{(2)} - u_1^{(2)}\\right)\n",
    "$$\n",
    "\n",
    "donde $k^{(2)}$ es la constante de resorte para el elemento $2$.\n",
    "\n",
    "\n",
    "***Recordar***\n",
    "\n",
    "La rigidez elástica equivalente de una barra viene dada por $k=AE/L$\n"
   ]
  },
  {
   "cell_type": "markdown",
   "metadata": {},
   "source": [
    "##### Paso 4: Derivar las ecuaciones y la matriz de rigidez del elemento"
   ]
  },
  {
   "cell_type": "markdown",
   "metadata": {},
   "source": [
    "Ahora derivamos la matriz de rigidez para el elemento de resorte. Las fuerzas nodales son\n",
    "\n",
    "$$\n",
    "f_1^{(2)} = -k^{(2)}\\left(u_2^{(2)} - u_1^{(2)}\\right)\n",
    "$$\n",
    "\n",
    "$$\n",
    "f_2^{(2)} = k^{(2)}\\left(u_2^{(2)} - u_1^{(2)}\\right)\n",
    "$$\n",
    "\n",
    "combinando y poniendo en forma matricial\n",
    "\n",
    "$$\n",
    "  \\begin{Bmatrix} f_1^{(2)} \\\\ f_2^{(2)} \\end{Bmatrix} \n",
    "= \\begin{bmatrix} k^{(2)} & -k^{(2)} \\\\ -k^{(2)} & k^{(2)} \\end{bmatrix}\n",
    "  \\begin{Bmatrix} u_1^{(2)} \\\\ u_2^{(2)} \\end{Bmatrix}\n",
    "$$."
   ]
  },
  {
   "cell_type": "markdown",
   "metadata": {},
   "source": [
    "##### Paso 5: Ensamblaje de ecuaciones de elementos en ecuaciones globales"
   ]
  },
  {
   "cell_type": "markdown",
   "metadata": {},
   "source": [
    "El análisis anterior se aplicó solo al elemento dos de nuestro problema de ejemplo. Se puede realizar exactamente el mismo análisis en los elementos restantes y las conclusiones serían las mismas, es decir, para los elementos $1$, $3$ y $4$\n",
    "\n",
    "$$\n",
    "  \\begin{Bmatrix} f_1^{(1)} \\\\ f_2^{(1)} \\end{Bmatrix} \n",
    "= \\begin{bmatrix} k_1 & -k_1 \\\\ -k_1 & k_1 \\end{bmatrix}\n",
    "  \\begin{Bmatrix} u_1^{(1)} \\\\ u_2^{(1)} \\end{Bmatrix}\n",
    "$$\n",
    "\n",
    "$$\n",
    "  \\begin{Bmatrix} f_1^{(3)} \\\\ f_2^{(3)} \\end{Bmatrix} \n",
    "= \\begin{bmatrix} k_3 & -k_3 \\\\ -k_3 & k_3 \\end{bmatrix}\n",
    "  \\begin{Bmatrix} u_1^{(3)} \\\\ u_2^{(3)} \\end{Bmatrix}\n",
    "$$\n",
    "\n",
    "$$\n",
    "  \\begin{Bmatrix} f_1^{(4)} \\\\ f_2^{(4)} \\end{Bmatrix} \n",
    "= \\begin{bmatrix} k_4 & -k_4 \\\\ -k_4 & k_4 \\end{bmatrix}\n",
    "  \\begin{Bmatrix} u_1^{(4)} \\\\ u_2^{(4)} \\end{Bmatrix}\n",
    "$$\n",
    "\n",
    "Ahora que hemos desarrollado rigideces para elementos individuales, nuestro objetivo es desarrollar una rigidez global para la estructura. Sin embargo, antes de ver la rigidez global, veamos los desplazamientos nodales. Tenga en cuenta que los elementos $1$, $2$, $3$ y $4$ deben permanecer conectados en los nodos comunes $2$, $3$ y $4$. Esto se denomina *continuidad* o *requisito de compatibilidad*. Esta compatibilidad produce las siguientes relaciones:\n",
    "\n",
    "$$\n",
    "   \\begin{split}\n",
    "     u_{2}^{(1)} &= u_{1}^{(2)} = u_{2}\\\\\n",
    "     u_{2}^{(2)} &= u_{1}^{(3)} = u_{3}\\\\\n",
    "     u_{2}^{(3)} &= u_{1}^{(4)} = u_{4}\\\\\n",
    "   \\end{split}\n",
    "$$\n",
    "\n",
    "Además, dado que los nodos $1$ y $5$ solo están conectados a un elemento cada uno\n",
    "\n",
    "$$\n",
    "   \\begin{split}\n",
    "     u_{1}^{(1)} &= u_{1}\\\\\n",
    "     u_{2}^{(4)} &= u_{5}\n",
    "   \\end{split}\n",
    "$$\n",
    "\n",
    "A partir de los diagramas de cuerpo libre de cada nodo y del hecho de que las fuerzas externas deben ser iguales a las fuerzas internas en cada nodo, podemos escribir las ecuaciones de equilibrio nodal para los nodos $1$, $2$, $3$, $4$ y $5$ como\n",
    "\n",
    "$$\n",
    "   \\begin{split}\n",
    "     f_{1} = f_{1}^{(1)} &= R \\\\\n",
    "     f_{2} = f_{2}^{(1)} + f_{1}^{(2)} &= 0 \\\\\n",
    "     f_{3} = f_{2}^{(2)} + f_{1}^{(3)} &= 0 \\\\\n",
    "     f_{4} = f_{2}^{(3)} + f_{1}^{(4)} &= 0 \\\\\n",
    "     f_{5} = f_{2}^{(4)} &= F \\\\\n",
    "   \\end{split}\n",
    "$$\n",
    "\n",
    "Haciendo sustituciones encontramos\n",
    "\n",
    "$$\n",
    "   \\begin{split}\n",
    "     R &= k_{1}u_{1} - k_{1}u_{2} \\\\\n",
    "     0 &= -k_{1}u_{1} + k_{1}u_{2} + k_{2}u_{2}-k_{2}u_{3} \\\\\n",
    "     0 &= -k_{2}u_{2} + k_{2}u_{3} + k_{3}u_{3} - k_{3}u_{4} \\\\\n",
    "     0 &= -k_{3}u_{3} + k_{3}u_{4} + k_{4}u_{4} - k_{4}u_{5} \\\\\n",
    "     F &= -k_{4}u_{4} + k_{4}u_{5}\\\\\n",
    "     \\end{split}\n",
    "$$\n",
    "\n",
    "En forma matricial\n",
    "\n",
    "$$\n",
    "   \\begin{Bmatrix}\n",
    "     R \\\\ 0 \\\\ 0 \\\\ 0 \\\\ F\n",
    "   \\end{Bmatrix}\n",
    "   =\n",
    "   \\begin{bmatrix}\n",
    "     k_{1} & -k_{1} & 0 & 0 & 0\\\\\n",
    "     -k_{1} & k_{1} + k_{2} & -k_{2} & 0 & 0\\\\\n",
    "     0 & -k_{2} & k_{2} + k_{3} & -k_{3} & 0 \\\\\n",
    "     0 & 0 & -k_{3} & k_{3} + k_{4} & -k_{4} \\\\\n",
    "     0 & 0 & 0 & -k_{4} & k_{4}\n",
    "   \\end{bmatrix}\n",
    "   \\begin{Bmatrix}\n",
    "     u_{1} \\\\ u_{2} \\\\ u_{3} \\\\ u_{4} \\\\ u_{5}\n",
    "   \\end{Bmatrix}\n",
    "$$\n"
   ]
  },
  {
   "cell_type": "markdown",
   "metadata": {},
   "source": [
    "##### Paso 5a: Ensamblaje de ecuaciones de elementos en ecuaciones globales - Superposición"
   ]
  },
  {
   "cell_type": "markdown",
   "metadata": {},
   "source": [
    "Las ecuaciones globales también se pueden obtener mediante la superposición, que es otro método empleado para este proceso. Escribamos la ecuación de fuerza / desplazamiento local para el elemento $1$ en la siguiente forma expandida\n",
    "\n",
    "$$\n",
    "   \\begin{Bmatrix}\n",
    "     f_{1} \\\\ f_{2} \\\\ f_{3} \\\\ f_{4} \\\\ f_{5}\n",
    "   \\end{Bmatrix}\n",
    "   =\n",
    "   \\begin{Bmatrix}\n",
    "     R \\\\ 0 \\\\ 0 \\\\0 \\\\ 0\n",
    "   \\end{Bmatrix}\n",
    "   =\n",
    "   \\begin{bmatrix}\n",
    "     k_{1} & -k_{1} & 0 & 0 & 0 \\\\\n",
    "     -k_{1} & k_{1} & 0 & 0 & 0 \\\\\n",
    "     0 & 0 & 0 & 0 & 0 \\\\\n",
    "     0 & 0 & 0 & 0 & 0 \\\\\n",
    "     0 & 0 & 0 & 0 & 0\n",
    "   \\end{bmatrix}\n",
    "   \\begin{Bmatrix}\n",
    "     u_{1} \\\\ u_{2} \\\\ u_{3} \\\\ u_{4} \\\\ u_{5}\n",
    "   \\end{Bmatrix}\n",
    "$$\n",
    "\n",
    "similarmente\n",
    "\n",
    "$$\n",
    "   \\begin{Bmatrix}\n",
    "     f_{1} \\\\ f_{2} \\\\ f_{3} \\\\ f_{4} \\\\ f_{5}\n",
    "   \\end{Bmatrix}\n",
    "   =\n",
    "   \\begin{Bmatrix}\n",
    "     0 \\\\ 0 \\\\ 0 \\\\ 0 \\\\ 0\n",
    "   \\end{Bmatrix}\n",
    "   =\n",
    "   \\begin{bmatrix}\n",
    "     0 & 0 & 0 & 0 & 0 \\\\\n",
    "     0 & k_{2} & -k_{2} & 0 & 0 \\\\\n",
    "     0 & -k_{2} & k_{2} & 0 & 0 \\\\\n",
    "     0 & 0 & 0 & 0 & 0 \\\\\n",
    "     0 & 0 & 0 & 0 & 0\n",
    "   \\end{bmatrix}\n",
    "   \\begin{Bmatrix}\n",
    "     u_{1} \\\\ u_{2} \\\\ u_{3} \\\\ u_{4} \\\\ u_{5}\n",
    "   \\end{Bmatrix}\n",
    "$$\n",
    "\n",
    "$$\n",
    "   \\begin{Bmatrix}\n",
    "     f_{1} \\\\ f_{2} \\\\ f_{3} \\\\ f_{4} \\\\ f_{5}\n",
    "   \\end{Bmatrix}\n",
    "   =\n",
    "   \\begin{Bmatrix}\n",
    "     0 \\\\ 0 \\\\ 0 \\\\ 0 \\\\ 0\n",
    "   \\end{Bmatrix}\n",
    "   =\n",
    "   \\begin{bmatrix}\n",
    "     0 & 0 & 0 & 0 & 0 \\\\\n",
    "     0 & 0 & 0 & 0 & 0 \\\\\n",
    "     0 & 0 & k_{3} & -k_{3} & 0 \\\\\n",
    "     0 & 0 & -k_{3} & k_{3} & 0 \\\\\n",
    "     0 & 0 & 0 & 0 & 0\n",
    "   \\end{bmatrix}\n",
    "   \\begin{Bmatrix}\n",
    "     u_{1} \\\\ u_{2} \\\\ u_{3} \\\\ u_{4} \\\\ u_{5}\n",
    "   \\end{Bmatrix}\n",
    "$$\n",
    "\n",
    "y\n",
    "\n",
    "$$\n",
    "   \\begin{Bmatrix}\n",
    "     f_{1} \\\\ f_{2} \\\\ f_{3} \\\\ f_{4} \\\\ f_{5}\n",
    "   \\end{Bmatrix}\n",
    "   =\n",
    "   \\begin{Bmatrix}\n",
    "     0 \\\\ 0 \\\\ 0 \\\\ 0 \\\\ F\n",
    "   \\end{Bmatrix}\n",
    "   =\n",
    "   \\begin{bmatrix}\n",
    "     0 & 0 & 0 & 0 & 0 \\\\\n",
    "     0 & 0 & 0 & 0 & 0 \\\\\n",
    "     0 & 0 & 0 & 0 & 0 \\\\\n",
    "     0 & 0 & 0 & k_{4} & -k_{4} \\\\\n",
    "     0 & 0 & 0 & -k_{4} & k_{4}\n",
    "   \\end{bmatrix}\n",
    "   \\begin{Bmatrix}\n",
    "     u_{1} \\\\ u_{2} \\\\ u_{3} \\\\ u_{4} \\\\ u_{5}\n",
    "   \\end{Bmatrix}\n",
    "$$\n",
    "\n",
    "Este proceso se puede generalizar y escribir las ecuaciones de fuerza / desplazamiento global\n",
    "\n",
    "$$\n",
    "   \\{F\\}= [K] \\{u\\}\n",
    "$$\n",
    "\n",
    "donde\n",
    "\n",
    "$$\n",
    "   [K] = \\sum_{e=1}^N [k]^{(e)}\n",
    "   \\quad \\mathrm{and} \\quad\n",
    "   \\{F\\} = \\sum_{e=1}^N \\{f\\}^{(e)}\n",
    "$$\n",
    "\n",
    "donde $[k]^{(e)}$ y $\\{f\\}^{(e)}$ son la rigidez y la fuerza del elemento expandido, respectivamente."
   ]
  },
  {
   "cell_type": "markdown",
   "metadata": {},
   "source": [
    "##### Mapeo de los grados de libertad"
   ]
  },
  {
   "cell_type": "markdown",
   "metadata": {},
   "source": [
    "Este procedimiento de ensamblaje define un mapeo desde los grados de libertad locales hasta los grados de libertad globales. Matemáticamente, el mapeo de grados de libertad locales a globales viene dado por\n",
    "\n",
    "$$\n",
    "n_{\\text{dof}}^{\\text{sys}} = n \\times n_{\\text{dof}}^{\\text{d}} + d\n",
    "$$ \n",
    "\n",
    "donde $n$ es el número de nodo global y el grado de libertad local $d$ toma valores $0,1,2$ para los grados de libertad $x,y,z$, respectivamente.\n",
    "\n",
    "Gráficamente, el mapeo se ve como\n",
    "\n",
    "<p float=\"center\">\n",
    "  <img src=\"https://github.com/carlosalvarezh/Modelamiento_y_Simulacion/blob/main/Figs/S06_F05_dof_map.png?raw=true\" width=\"350\" />\n",
    "</p>\n",
    "\n",
    "<div style=\"text-align: right\"> Fuente: <a href=\"https://tiberiomurciagodoy.blogspot.com/2020/06/puente-pearson-por-hugo-rubio-salas.html\"></a> </div>\n",
    "\n",
    "¡Este mapeo es cierto solo para la numeración de nodos que comienza en $0$!"
   ]
  },
  {
   "cell_type": "markdown",
   "metadata": {},
   "source": [
    "##### Paso 6: Aplicar condiciones de contorno"
   ]
  },
  {
   "cell_type": "markdown",
   "metadata": {},
   "source": [
    "Se puede demostrar que $\\det{[K]} = 0$, o $[K]$ no es invertible. Lo que significa que, *tal como está, el sistema no es estable* y no tiene soluciones o tiene infinitas soluciones. Deben proporcionarse condiciones de contorno para que el sistema no sea singular. Esto tiene sentido intuitivamente, antes de que se especifiquen las condiciones de contorno, la estructura puede moverse libremente sin restricciones, lo que significa que hay infinitas soluciones para el desplazamiento en cada nodo.\n",
    "\n",
    "Para nuestro problema de barra cónica, considere la condición de que el origen sea fijo. Las condiciones de contorno de este tipo se denominan *homogéneas*. En nuestro ejemplo, esto significa que $u_{1} = 0$ y \n",
    "\n",
    "$$\n",
    "   \\begin{Bmatrix}\n",
    "     R \\\\ 0 \\\\ 0 \\\\ 0 \\\\ F \\\\\n",
    "   \\end{Bmatrix}\n",
    "   =\n",
    "   \\begin{bmatrix}\n",
    "     k_{1} & -k_{1} & 0 & 0 & \\\\\n",
    "     -k_{1} & k_{1} + k_{2} & -k_{2} & 0 & 0 \\\\\n",
    "     0 & -k_{2} & k_{2} + k_{3} & -k_{3} & 0 \\\\\n",
    "     0 & 0 & -k_{3} & k_{3} + k_{4} & -k_{4} \\\\\n",
    "     0 & 0 & 0 & -k_{4} & k_{4}\n",
    "   \\end{bmatrix}\n",
    "   \\begin{Bmatrix}\n",
    "     0 \\\\ u_{2} \\\\ u_{3} \\\\ u_{4} \\\\ u_{5}\n",
    "   \\end{Bmatrix}\n",
    "$$\n",
    "\n",
    "tenga en cuenta que los desplazamientos $u_{2}, u_{3}, u_{4}$ no dependen explícitamente de la fuerza de reacción $f_{1}$, esto nos motiva a escribir las siguientes particiones:\n",
    "\n",
    "$$\n",
    "   \\begin{Bmatrix}\n",
    "     R \\\\ \\hline 0 \\\\ 0 \\\\ 0 \\\\ F \\\\\n",
    "   \\end{Bmatrix}\n",
    "   =\n",
    "   \\left[\n",
    "     \\begin{array}{c|ccc}\n",
    "       k_{1} & -k_{1} & 0 & 0 & 0\\\\\n",
    "       \\hline -k_{1} & k_{1}+k_{2} & -k_{2} & 0 & 0 \\\\\n",
    "       0 & -k_{2} & k_{2} + k_{3} & -k_{3} & 0 \\\\\n",
    "       0 & 0 & -k_{3} & k_{3} + k_{4} & -k_{4} \\\\\n",
    "       0 & 0 & 0 & -k_{4} & k_{4}\n",
    "     \\end{array}\n",
    "   \\right]\n",
    "   \\begin{Bmatrix}\n",
    "     0 \\\\ \\hline u_{2} \\\\ u_{3} \\\\ u_{4} \\\\ u_{5}\n",
    "   \\end{Bmatrix}\n",
    "$$\n",
    "\n",
    "o,\n",
    "\n",
    "$$\n",
    "   \\begin{Bmatrix}\n",
    "     \\{F^1\\} \\\\ \\{F^2\\}\n",
    "   \\end{Bmatrix}\n",
    "   =\n",
    "   \\begin{bmatrix}\n",
    "    \\left[K^{11}\\right] & \\left[K^{12}\\right] \\\\\n",
    "    \\left[K^{21}\\right] & \\left[K^{22}\\right]\n",
    "  \\end{bmatrix}\n",
    "  \\begin{Bmatrix}\n",
    "    \\{u^1\\} \\\\ \\{u^2\\}\n",
    "  \\end{Bmatrix}\n",
    "$$\n",
    "\n",
    "donde\n",
    "\n",
    "$$\n",
    "   \\{F^1\\}=[R]^T, \\quad \\{F^2\\}=[0, \\ 0, \\ 0, \\ F]^T\n",
    "$$\n",
    "\n",
    "\n",
    "$$\n",
    "   \\left[K^{11}\\right] = \\left[ k_{1} \\right],\n",
    "   \\ldots,\n",
    "   \\left[K^{22}\\right] =\n",
    "   \\begin{bmatrix}\n",
    "     k_{1}+k_{2} & -k_{2} & 0 & 0 \\\\\n",
    "     -k_{2} & k_{2}+k_{3} & -k_{3} & 0 \\\\\n",
    "     0 & -k_{3} & k_{3} + k_{4} & -k_{4} \\\\\n",
    "     0 & 0 & -k_{4} & k_{4}\n",
    "   \\end{bmatrix}\n",
    "$$\n",
    "\n",
    "y\n",
    "\n",
    "$$\n",
    "   \\{u^1\\} = [0]^T,\n",
    "   \\quad\n",
    "   \\{u^2\\} = \\left[u_{2}, \\ u_{3}, \\ u_{4}, \\ u_{5} \\right]^T\n",
    "$$\n",
    "\n",
    "En forma expandida,\n",
    "\n",
    "$$\n",
    "   \\{F^1\\}=\\left[ K^{11}\\right]\\{u^1 \\} + \\left[ K^{12} \\right] \\{u^2\\}\n",
    "$$\n",
    "\n",
    "$$\n",
    "   \\{F^2\\} = \\left[K^{21}\\right]\\{u^1 \\} + \\left[K^{22}\\right]\\{u^2\\}\n",
    "$$\n",
    "\n",
    "El método anterior de aplicar condiciones de contorno se denomina método de partición. Si se combina con el reordenamiento de las ecuaciones globales, es una excelente manera de disminuir el tamaño del sistema que se está resolviendo. Sin embargo, es más difícil de implementar computacionalmente.\n"
   ]
  },
  {
   "cell_type": "markdown",
   "metadata": {},
   "source": [
    "#### Fase de solución"
   ]
  },
  {
   "cell_type": "markdown",
   "metadata": {},
   "source": [
    "##### Paso 1: Resolución para los desplazamientos nodales"
   ]
  },
  {
   "cell_type": "markdown",
   "metadata": {},
   "source": [
    "Resuelva para los desplazamientos que satisfagan\n",
    "\n",
    "$$\n",
    "[K]^*\\{u\\} = \\{F\\}^*\n",
    "$$\n",
    "\n",
    "donde $[K]^*$ y $\\{F\\}^*$ son la rigidez y la fuerza modificadas por la condición de contorno. Al resolver $\\{u\\}$ encontramos\n",
    "\n",
    "$$\n",
    "  \\begin{Bmatrix} u_1 \\\\ u_2 \\\\ u_3 \\\\ u_4 \\end{Bmatrix}\n",
    "  =\n",
    "  F \\begin{Bmatrix} 0 \\\\\n",
    "                    \\frac{1}{k_1} \\\\\n",
    "                    \\frac{1}{k_1} + \\frac{1}{k_2}  \\\\\n",
    "                    \\frac{1}{k_1} + \\frac{1}{k_2} + \\frac{1}{k_3} \\\\\n",
    "                    \\frac{1}{k_1} + \\frac{1}{k_2} + \\frac{1}{k_3} + \\frac{1}{k_4}\n",
    "  \\end{Bmatrix}\n",
    "$$."
   ]
  },
  {
   "cell_type": "markdown",
   "metadata": {},
   "source": [
    "##### Paso 2: Cálculo de las reacciones"
   ]
  },
  {
   "cell_type": "markdown",
   "metadata": {},
   "source": [
    "Finalmente, la fuerza de reacción en la frontera fija se puede encontrar a partir de\n",
    "\n",
    "$$\n",
    "\\{r\\} = [K]\\{u\\} - \\{f\\}\n",
    "$$\n",
    "\n",
    "que, para este ejemplo, se reduce a\n",
    "\n",
    "$$\n",
    "   f_{1}\n",
    "   = -k_{1}u_{2} = -F\n",
    "$$\n",
    "\n",
    "que no es un resultado sorprendente."
   ]
  },
  {
   "cell_type": "markdown",
   "metadata": {},
   "source": [
    "#### Fase de postprocesamiento"
   ]
  },
  {
   "cell_type": "markdown",
   "metadata": {},
   "source": [
    "##### Paso 1: Búsqueda de los esfuerzos y deformaciones a nivel de elementos y otra información importante"
   ]
  },
  {
   "cell_type": "markdown",
   "metadata": {},
   "source": [
    "- ***Elemento tipo resorte general***\n",
    "\n",
    "Para los elementos tipo resorte, el posprocesamiento implica calcular el alargamiento y las fuerzas resultantes a nivel del elemento.\n",
    "\n",
    "<table id='mytable'>\n",
    "<tr><td>Alargamiento</td><td>Fuerzas</td></tr>\n",
    "<tr><td>\n",
    "$$\\begin{pmatrix}\n",
    "\\Delta L^{(1)} \\\\\n",
    "\\Delta L^{(2)} \\\\\n",
    "\\Delta L^{(3)} \\\\\n",
    "\\end{pmatrix} = \n",
    "\\begin{pmatrix}\n",
    "u_2 - u_1 \\\\\n",
    "u_3 - u_2 \\\\\n",
    "u_4 - u_3\n",
    "\\end{pmatrix} $$</td>\n",
    "<td>$$\\begin{pmatrix}\n",
    "f^{(1)} \\\\\n",
    "f^{(2)} \\\\\n",
    "f^{(3)}\n",
    "\\end{pmatrix} = \n",
    "\\begin{pmatrix}\n",
    "k^{(1)}\\Delta L^{(1)} \\\\\n",
    "k^{(1)}\\Delta L^{(2)} \\\\\n",
    "k^{(1)}\\Delta L^{(3)}\n",
    "\\end{pmatrix} $$\n",
    "</td></tr>\n",
    "</table>\n",
    "\n",
    "- ***Elemento tipo barra***\n",
    "\n",
    "Para los elementos de barra, el posprocesamiento implica calcular las deformaciones, esfuerzos y fuerzas de los resulantes.\n",
    "\n",
    "<table id='mytable-1'>\n",
    "<tr><td>Alargamiento</td><td>Deformación</td></tr>\n",
    "<tr><td>$$\\begin{pmatrix}\n",
    "\\Delta L^{(1)} \\\\\n",
    "\\Delta L^{(2)} \\\\\n",
    "\\Delta L^{(3)}\n",
    "\\end{pmatrix} = \n",
    "\\begin{pmatrix}\n",
    "u_2 - u_1 \\\\\n",
    "u_3 - u_2 \\\\\n",
    "u_4 - u_3\n",
    "\\end{pmatrix} $$</td>\n",
    "<td>$$\\begin{pmatrix}\n",
    "\\epsilon^{(1)} \\\\\n",
    "\\epsilon^{(2)} \\\\\n",
    "\\epsilon^{(3)}\n",
    "\\end{pmatrix} = \n",
    "\\begin{pmatrix}\n",
    "\\Delta L^{(1)} / L^{(1)} \\\\\n",
    "\\Delta L^{(2)} / L^{(2)} \\\\\n",
    "\\Delta L^{(3)} / L^{(3)}\n",
    "\\end{pmatrix}$$</td></tr>\n",
    "</table>\n",
    "\n",
    "<table id='mytable-1'>\n",
    "<tr><td>Tensión</td><td>Fuerzas</td></tr>\n",
    "<tr><td>$$ \\begin{pmatrix}\n",
    "\\sigma^{(1)} \\\\\n",
    "\\sigma^{(2)} \\\\\n",
    "\\sigma^{(3)}\n",
    "\\end{pmatrix} =\n",
    "\\begin{pmatrix}\n",
    "E^{(1)}\\epsilon^{(1)} \\\\\n",
    "E^{(2)}\\epsilon^{(2)} \\\\\n",
    "E^{(3)}\\epsilon^{(3)}\n",
    "\\end{pmatrix}$$ </td>\n",
    "<td>$$ \\begin{pmatrix}\n",
    "f^{(1)} \\\\\n",
    "f^{(2)} \\\\\n",
    "f^{(3)}\n",
    "\\end{pmatrix} = \n",
    "\\begin{pmatrix}\n",
    "A^{(1)}\\sigma^{(1)} \\\\\n",
    "A^{(2)}\\sigma^{(2)} \\\\\n",
    "A^{(3)}\\sigma^{(3)}\n",
    "\\end{pmatrix}$$</td>\n",
    "</tr>\n",
    "</table>."
   ]
  },
  {
   "cell_type": "markdown",
   "metadata": {},
   "source": [
    "### Ejemplo 2: Red de resortes en paralelo"
   ]
  },
  {
   "cell_type": "markdown",
   "metadata": {},
   "source": [
    "Considere la siguiente red de resortes\n",
    "\n",
    "<p float=\"center\">\n",
    "  <img src=\"https://github.com/carlosalvarezh/Modelamiento_y_Simulacion/blob/main/Figs/S06_F06_multi_spring.png?raw=true\" width=\"250\" />\n",
    "</p>\n",
    "\n",
    "<p float=\"center\">\n",
    "  <img src=\"https://github.com/carlosalvarezh/Modelamiento_y_Simulacion/blob/main/Figs/S06_F07_multi_spring1.png?raw=true\" width=\"500\" />\n",
    "</p>\n",
    "\n",
    "<div style=\"text-align: right\"> Fuente: <a href=\"https://tiberiomurciagodoy.blogspot.com/2020/06/puente-pearson-por-hugo-rubio-salas.html\"></a> </div>\n",
    "\n",
    "Con los bordes izquierdo y derecho de la placa fijos como se muestra, ¿cuál es el desplazamiento de la barra rígida debido a la fuerza $P$?\n",
    "\n",
    "Resolvemos el problema siguiendo los mismos pasos que antes. Sin embargo, resolvemos el problema por completo utilizando el módulo de cálculo simbólico [`sympy`](https://www.sympy.org/es/) de `python`."
   ]
  },
  {
   "cell_type": "markdown",
   "metadata": {},
   "source": [
    "#### Fase de Preprocesamiento"
   ]
  },
  {
   "cell_type": "markdown",
   "metadata": {},
   "source": [
    "Las rigideces de los elementos individuales adoptan la misma forma que en los ejemplos anteriores. Sin embargo, al insertar las rigideces de los elementos en las ubicaciones apropiadas en la rigidez global, debemos tener en cuenta el hecho de que $3$ elementos tienen el nodo $2$ en común. Tenga en cuenta que\n",
    "\n",
    "$$\n",
    "   \\begin{split}\n",
    "     u_{1}^{(1)} &= u_{1} = 0 \\\\\n",
    "     u_{2}^{(1)} = u_{1}^{(2)} = u_{1}^{(3)} &= u_{2} \\\\\n",
    "     u_{2}^{(3)} &= u_{3} = 0 \\\\\n",
    "     u_{2}^{(4)} &= u_{4} = 0 \\\\\n",
    "   \\end{split}\n",
    "$$\n",
    "\n",
    "A continuación se muestra la expansión de la rigidez del elemento para la inserción en la rigidez global."
   ]
  },
  {
   "cell_type": "code",
   "execution_count": 6,
   "metadata": {},
   "outputs": [],
   "source": [
    "import sympy as sp\n",
    "import numpy as np\n",
    "from sympy import Matrix, symbols, Symbol, zeros as spzeros, init_printing, N\n",
    "init_printing()"
   ]
  },
  {
   "cell_type": "code",
   "execution_count": 7,
   "metadata": {
    "scrolled": true
   },
   "outputs": [
    {
     "data": {
      "image/png": "[encoded data removed]",
      "text/latex": [
       "$$\\left[\\begin{matrix}k_{1} & - k_{1} & 0 & 0\\\\- k_{1} & k_{1} + k_{2} + k_{3} & - k_{2} & - k_{3}\\\\0 & - k_{2} & k_{2} & 0\\\\0 & - k_{3} & 0 & k_{3}\\end{matrix}\\right]$$"
      ],
      "text/plain": [
       "⎡k₁       -k₁        0    0 ⎤\n",
       "⎢                           ⎥\n",
       "⎢-k₁  k₁ + k₂ + k₃  -k₂  -k₃⎥\n",
       "⎢                           ⎥\n",
       "⎢ 0       -k₂       k₂    0 ⎥\n",
       "⎢                           ⎥\n",
       "⎣ 0       -k₃        0   k₃ ⎦"
      ]
     },
     "execution_count": 7,
     "metadata": {},
     "output_type": "execute_result"
    }
   ],
   "source": [
    "# Expand element stiffnesses to have same shape as global stiffness\n",
    "# by inserting appropriate columns and rows of zeros.\n",
    "k1, k2, k3 = symbols('k1 k2 k3')\n",
    "K1 = Matrix(4, 4, lambda i,j: 0)\n",
    "K1[0:2, 0:2] = Matrix(2, 2, lambda i,j: k1 if i==j else -k1)\n",
    "K2 = Matrix(4, 4, lambda i,j: 0)\n",
    "K2[1:3, 1:3] = Matrix(2, 2, lambda i,j: k2 if i==j else -k2)\n",
    "K3 = Matrix(4, 4, lambda i,j: 0)\n",
    "K3[1, :] = Matrix(1,4,[0,k3, 0, -k3])\n",
    "K3[3, :] = Matrix(1,4,[0,-k3, 0, k3])\n",
    "Kg = K1 + K2 + K3\n",
    "Kg"
   ]
  },
  {
   "cell_type": "markdown",
   "metadata": {},
   "source": [
    "##### Aplicación de las condiciones de contorno"
   ]
  },
  {
   "cell_type": "markdown",
   "metadata": {},
   "source": [
    "En este ejemplo, aplicamos condiciones de contorno utilizando el \"[método de penalización](https://en.wikipedia.org/wiki/Penalty_method)\". El método de penalización se explica fácilmente con un ejemplo. Considere el sistema global de ecuaciones\n",
    "\n",
    "$$\n",
    "\\begin{bmatrix} \n",
    "k_1 & -k_1 & 0 & 0\\\\\n",
    "-k_1 & k_1+k_2+k_3 & -k_2 & -k_3 \\\\\n",
    "0 & -k_2 & k_2 & 0 \\\\\n",
    "0 & -k_3 & 0 & k_3 \n",
    "\\end{bmatrix}\n",
    "\\begin{Bmatrix} \n",
    "u_1 \\\\\n",
    "u_2  \\\\\n",
    "u_3 \\\\\n",
    "u_4\n",
    "\\end{Bmatrix}\n",
    "=\n",
    "\\begin{Bmatrix} \n",
    "R_1 \\\\\n",
    "P  \\\\\n",
    "R_3 \\\\\n",
    "R_4\n",
    "\\end{Bmatrix}\n",
    "$$\n",
    "\n",
    "Sustituimos las reacciones desconocidas por las condiciones de contorno conocidas por un número grande $X$. En la matriz de rigidez, sustituimos los componentes apropiados con $X$, como se muestra:\n",
    "\n",
    "$$\n",
    "\\begin{bmatrix} \n",
    "X & -k_1 & 0 & 0\\\\\n",
    "-k_1 & k_1+k_2+k_3 & -k_2 & -k_3 \\\\\n",
    "0 & -k_2 & X & 0 \\\\\n",
    "0 & -k_3 & 0 & X\n",
    "\\end{bmatrix}\n",
    "\\begin{Bmatrix} \n",
    "u_1 \\\\\n",
    "u_2  \\\\\n",
    "u_3 \\\\\n",
    "u_4\n",
    "\\end{Bmatrix}\n",
    "=\n",
    "\\begin{Bmatrix} \n",
    "X u^*_1 \\\\\n",
    "P  \\\\\n",
    "X u^*_3 \\\\\n",
    "X u^*_4\n",
    "\\end{Bmatrix}\n",
    "$$\n",
    "\n",
    "Inspeccionando la fila $1$, vemos\n",
    "\n",
    "$$Xu_1 - k_1 u_2 = X u_1^*$$\n",
    "\n",
    "donde $u_1^*$ es la condición de límite conocida ($u_1^*=0$ en este caso). Al dividir por $X$ obtenemos\n",
    "\n",
    "$$u_1 - \\frac{k_1 u_2}{X} = u_1^*$$\n",
    "\n",
    "si $X$ se elige lo suficientemente grande $\\frac{k_1 u_2}{X}\\approx 0$ y\n",
    "\n",
    "$$u_1 \\approx u_1^*$$\n",
    "\n",
    "Generalmente, el método de penalización sigue como:\n",
    "\n",
    "Para un desplazamiento conocido $\\delta_m$ aplicado en el nodo $m$ y $X >>$ any $K_{ij}$\n",
    "\n",
    "\\begin{align*} \n",
    "K_{mm} &= X \\\\ F_{m} &= X\\delta_m \n",
    "\\end{align*}\n"
   ]
  },
  {
   "cell_type": "code",
   "execution_count": 8,
   "metadata": {},
   "outputs": [
    {
     "data": {
      "image/png": "[encoded data removed]",
      "text/latex": [
       "$$\\left[\\begin{matrix}5.0 \\cdot 10^{-30}\\\\0.5\\\\2.5 \\cdot 10^{-30}\\\\2.5 \\cdot 10^{-30}\\end{matrix}\\right]$$"
      ],
      "text/plain": [
       "⎡5.0e-30⎤\n",
       "⎢       ⎥\n",
       "⎢  0.5  ⎥\n",
       "⎢       ⎥\n",
       "⎢2.5e-30⎥\n",
       "⎢       ⎥\n",
       "⎣2.5e-30⎦"
      ]
     },
     "execution_count": 8,
     "metadata": {},
     "output_type": "execute_result"
    }
   ],
   "source": [
    "# Apply boundary conditions by setting appropriate components of K\n",
    "# to 0 or 1.  We form K by making a copy of Kg so that we can retain\n",
    "# the original stiffness.\n",
    "K = Matrix(Kg)\n",
    "X = 1.E+30\n",
    "K[0,0] = X\n",
    "K[2,2] = X\n",
    "K[3,3] = X\n",
    "\n",
    "# Form the force array F.  Note that f1 and f3 are the unknown reaction\n",
    "# forces\n",
    "P = symbols('P')\n",
    "F = Matrix(4, 1, [0, P, 0, 0])\n",
    "\n",
    "# Solve for displacements.\n",
    "u = K.LUsolve(F)\n",
    "\n",
    "# At this point, the solution will be messy. \n",
    "# Let's substitute some actual numbers\n",
    "subs ={k1: 10, k2: 5, k3: 5, P: 10}\n",
    "N(u.subs(subs))"
   ]
  },
  {
   "cell_type": "code",
   "execution_count": 9,
   "metadata": {},
   "outputs": [
    {
     "data": {
      "image/png": "[encoded data removed]",
      "text/latex": [
       "$$\\left[\\begin{matrix}-5.0\\\\-5.0 \\cdot 10^{-29}\\\\-2.5\\\\-2.5\\end{matrix}\\right]$$"
      ],
      "text/plain": [
       "⎡  -5.0  ⎤\n",
       "⎢        ⎥\n",
       "⎢-5.0e-29⎥\n",
       "⎢        ⎥\n",
       "⎢  -2.5  ⎥\n",
       "⎢        ⎥\n",
       "⎣  -2.5  ⎦"
      ]
     },
     "execution_count": 9,
     "metadata": {},
     "output_type": "execute_result"
    }
   ],
   "source": [
    "# Solve for reactions by back substituting u in to the global equations\n",
    "react = Kg * u - F\n",
    "react.subs(subs)"
   ]
  },
  {
   "cell_type": "markdown",
   "metadata": {},
   "source": [
    "Que es exactamente como se esperaba.\n",
    "\n",
    "El método de penalización es menos preciso a medida que aumenta el número de nodos y elementos, pero es algorítmicamente simple y conduce a una formulación general para las condiciones de contorno."
   ]
  },
  {
   "cell_type": "markdown",
   "metadata": {},
   "source": [
    "### Ejemplo 3: Desplazamientos prescritos"
   ]
  },
  {
   "cell_type": "markdown",
   "metadata": {},
   "source": [
    "Supongamos ahora que, en lugar de aplicar una fuerza al extremo de nuestra viga ahusada, forzamos el desplazamiento al final de la viga a una cantidad prescrita $\\delta$.\n",
    "\n",
    "<p float=\"center\">\n",
    "  <img src=\"https://github.com/carlosalvarezh/Modelamiento_y_Simulacion/blob/main/Figs/S06_F08_prescribed_displ.jpg?raw=true\" width=\"250\" />\n",
    "</p>\n",
    "\n",
    "<div style=\"text-align: right\"> Fuente: <a href=\"https://tiberiomurciagodoy.blogspot.com/2020/06/puente-pearson-por-hugo-rubio-salas.html\"></a> </div>\n",
    "\n",
    "La técnica de solución es similar al problema anterior. Es decir, encuentre las rigideces de los elementos, obtenga la rigidez global, aplique las condiciones de contorno, resuelva los desplazamientos y encuentre las fuerzas de los elementos.\n",
    "\n",
    "Resolveremos este problema nuevamente usando `sympy`.\n"
   ]
  },
  {
   "cell_type": "markdown",
   "metadata": {},
   "source": [
    "#### Fase de preprocesamiento"
   ]
  },
  {
   "cell_type": "code",
   "execution_count": 10,
   "metadata": {},
   "outputs": [],
   "source": [
    "# Stiffness and force symbols\n",
    "k1, k2, d = symbols('k_1 k_2 delta')\n",
    "\n",
    "# Global stiffness matrix\n",
    "Kg = Matrix([[ k1,   -k1,     0], \n",
    "             [-k1, k1 + k2, -k2], \n",
    "             [ 0,    -k2,    k2]])"
   ]
  },
  {
   "cell_type": "markdown",
   "metadata": {},
   "source": [
    "##### Aplicación de las condiciones de contorno"
   ]
  },
  {
   "cell_type": "markdown",
   "metadata": {},
   "source": [
    "Hemos estudiado la división del sistema de ecuaciones y el método de penalización como formas de aplicar condiciones de contorno. En este ejemplo usamos un método de sustitución mediante el cual las reacciones desconocidas se sustituyen por las condiciones de contorno conocidas y los $1$ y $0$ se sustituyen en las ubicaciones apropiadas en la rigidez global. Esto quizás se muestre mejor con un ejemplo, considere el sistema global para este problema\n",
    "\n",
    "$$\n",
    "\\begin{bmatrix}\n",
    "k_1 & -k_1 & 0 \\\\ \n",
    "-k_1 & k_1 + k_2 & -k2 \\\\ \n",
    "0 & -k2 & k2\n",
    "\\end{bmatrix}\n",
    "\\begin{Bmatrix}\n",
    "u_1 \\\\ \n",
    "u_2 \\\\ \n",
    "u_3\n",
    "\\end{Bmatrix}\n",
    "=\n",
    "\\begin{Bmatrix}\n",
    "R_1 \\\\ \n",
    "0 \\\\ \n",
    "R_3\n",
    "\\end{Bmatrix} \\Longrightarrow\n",
    "\\begin{bmatrix}\n",
    "1 & 0 & 0 \\\\ \n",
    "-k_1 & k_1 + k_2 & -k2 \\\\ \n",
    "0 & 0 & 1\n",
    "\\end{bmatrix}\n",
    "\\begin{Bmatrix}\n",
    "u_1 \\\\ \n",
    "u_2 \\\\ \n",
    "u_3\n",
    "\\end{Bmatrix}\n",
    "=\n",
    "\\begin{Bmatrix}\n",
    "0 \\\\ \n",
    "0 \\\\ \n",
    "\\delta\n",
    "\\end{Bmatrix}\n",
    "$$\n",
    "\n",
    "Es fácil ver que este sistema de ecuaciones satisface las condiciones de contorno.\n",
    "\n",
    "***Nota:*** El método de sustitución que se muestra es sencillo de implementar, pero tiene la (grave) desventaja de que el sistema de ecuaciones resultante no es simétrico. Más adelante veremos cómo hacer que el sistema sea simétrico."
   ]
  },
  {
   "cell_type": "code",
   "execution_count": 11,
   "metadata": {},
   "outputs": [
    {
     "data": {
      "image/png": "[encoded data removed]",
      "text/latex": [
       "$$\\left[\\begin{matrix}0\\\\\\frac{\\delta k_{2}}{k_{1} + k_{2}}\\\\\\delta\\end{matrix}\\right]$$"
      ],
      "text/plain": [
       "⎡   0   ⎤\n",
       "⎢       ⎥\n",
       "⎢  δ⋅k₂ ⎥\n",
       "⎢───────⎥\n",
       "⎢k₁ + k₂⎥\n",
       "⎢       ⎥\n",
       "⎣   δ   ⎦"
      ]
     },
     "execution_count": 11,
     "metadata": {},
     "output_type": "execute_result"
    }
   ],
   "source": [
    "# Apply boundary conditions to a copy of the global stiffness.  We\n",
    "# set appropriate components to the first and last row of K to 0 or 1\n",
    "# to strictly enforce the known displacement\n",
    "K = Matrix(Kg)\n",
    "K[2,1], K[2,2] = 0, 1\n",
    "\n",
    "# Form the force array - inserting known boundary conditions in to\n",
    "# the appropriate locations\n",
    "f1 = symbols('f1')\n",
    "F = Matrix([[f1], \n",
    "            [0], \n",
    "            [d]])\n",
    "\n",
    "u2, u3 = symbols('u2 u3')\n",
    "u = Matrix(3, 1, [0, u2, u3])\n",
    "u[1:, :] = K[1:, 1:].LUsolve(F[1:, :])\n",
    "u"
   ]
  },
  {
   "cell_type": "markdown",
   "metadata": {},
   "source": [
    "Resolviendo para las reacciones"
   ]
  },
  {
   "cell_type": "code",
   "execution_count": 12,
   "metadata": {
    "scrolled": true
   },
   "outputs": [
    {
     "data": {
      "image/png": "[encoded data removed]",
      "text/latex": [
       "$$\\left[\\begin{matrix}- \\frac{\\delta k_{1} k_{2}}{k_{1} + k_{2}}\\\\0\\\\- \\frac{\\delta k_{2}^{2}}{k_{1} + k_{2}} + \\delta k_{2}\\end{matrix}\\right]$$"
      ],
      "text/plain": [
       "⎡   -δ⋅k₁⋅k₂     ⎤\n",
       "⎢   ─────────    ⎥\n",
       "⎢    k₁ + k₂     ⎥\n",
       "⎢                ⎥\n",
       "⎢       0        ⎥\n",
       "⎢                ⎥\n",
       "⎢       2        ⎥\n",
       "⎢   δ⋅k₂         ⎥\n",
       "⎢- ─────── + δ⋅k₂⎥\n",
       "⎣  k₁ + k₂       ⎦"
      ]
     },
     "execution_count": 12,
     "metadata": {},
     "output_type": "execute_result"
    }
   ],
   "source": [
    "# Solve for reactions by back substitution\n",
    "react = Kg * u\n",
    "react"
   ]
  },
  {
   "cell_type": "markdown",
   "metadata": {},
   "source": [
    "###  Ejemplo 4: Peso propio"
   ]
  },
  {
   "cell_type": "markdown",
   "metadata": {},
   "source": [
    "#### Tipos de cargas"
   ]
  },
  {
   "cell_type": "markdown",
   "metadata": {},
   "source": [
    "En ejemplos anteriores, las fuerzas se aplicaron directamente a los nodos del modelo. Sin embargo, existen situaciones en las que las cargas actúan sobre un cuerpo o una superficie. Las cargas corporales tienen unidades de fuerza por unidad de masa y escala con el volumen del elemento. Las tracciones de superficie tienen unidades de fuerza por unidad de área y escalan con el área de superficie o sección transversal del elemento."
   ]
  },
  {
   "cell_type": "markdown",
   "metadata": {},
   "source": [
    "#### Fuerzas de cuerpo a nivel de elemento"
   ]
  },
  {
   "cell_type": "markdown",
   "metadata": {},
   "source": [
    "Una *fuerza de cuerpo distribuida* tiene unidades de *fuerza/longitud* en $1D$. En los problemas estructurales, las fuerzas corporales suelen ser el resultado de la gravedad. Las fuerzas de cuerpo también pueden resultar de la aceleración, por ejemplo, una fuerza centrípeta en una centrífuga.\n",
    "\n",
    "La fuerza del elemento debida a una carga de cuerpo general viene dada por\n",
    "\n",
    "$$\n",
    "b^{(e)} = \\left(\\frac{\\text{force}}{\\text{mass}}\\right)\\rho^{(e)} V^{(e)}\n",
    "$$\n",
    "\n",
    "La fuerza del elemento debido al peso propio de la barra:\n",
    "\n",
    "$$\n",
    "w^{(e)}=g\\rho^{(e)}A^{(e)}L^{(e)}\n",
    "$$\n",
    "\n",
    "y la carga de cuerpo distribuida es\n",
    "\n",
    "$$\n",
    "b(x) = \\frac{w^{(e)}}{L^{(e)}} = \\frac{m^{(e)}g}{L^{(e)}} \n",
    "= \\rho^{(e)}A^{(e)}g\n",
    "$$"
   ]
  },
  {
   "cell_type": "markdown",
   "metadata": {},
   "source": [
    "#### Fuerzas nodales"
   ]
  },
  {
   "cell_type": "markdown",
   "metadata": {},
   "source": [
    "Las cargas de cuerpo se definen sobre el dominio del elemento, pero nuestro método FE solo admite fuerzas aplicadas en los nodos. Entonces, las cargas de cuerpo y las tracciones de la superficie (cargas puntuales) se dividen en los nodos vecinos como se muestra para el elemento 1.\n",
    "\n",
    "<p float=\"center\">\n",
    "  <img src=\"https://github.com/carlosalvarezh/Modelamiento_y_Simulacion/blob/main/Figs/S06_F09_body_force.png?raw=true\" width=\"300\" />\n",
    "</p>\n",
    "\n",
    "<div style=\"text-align: right\"> Fuente: <a href=\"https://tiberiomurciagodoy.blogspot.com/2020/06/puente-pearson-por-hugo-rubio-salas.html\"></a> </div>"
   ]
  },
  {
   "cell_type": "markdown",
   "metadata": {},
   "source": [
    "## Implementación computacional del método directo de la rigidez"
   ]
  },
  {
   "cell_type": "markdown",
   "metadata": {},
   "source": [
    "Los pasos necesarios para implementar un programa de elementos finitos lineal 1D computacionalmente se muestran en la siguiente figura\n",
    "\n",
    "<p float=\"center\">\n",
    "  <img src=\"https://github.com/carlosalvarezh/Modelamiento_y_Simulacion/blob/main/Figs/S06_F10_algorithm.png?raw=true\" width=\"600\" />\n",
    "</p>\n",
    "\n",
    "<div style=\"text-align: right\"> Fuente: <a href=\"https://tiberiomurciagodoy.blogspot.com/2020/06/puente-pearson-por-hugo-rubio-salas.html\"></a> </div>\n",
    "\n",
    "La implementación computacional requiere (como mínimo)\n",
    "\n",
    "- especificación de malla, cargas y restricciones, y propiedades del material\n",
    "\n",
    "\n",
    "- ensamblaje de las rigideces y fuerzas de los elementos en la rigidez y fuerza globales\n",
    "\n",
    "\n",
    "- solución de $[K]\\{F\\} = \\{u\\}$ para desplazamientos desconocidos\n",
    "\n",
    "\n",
    "- resultados de posprocesamiento\n",
    "\n",
    "\n",
    "En las siguientes secciones, analizamos los requerimientos para implementar el método de elementos finitos computacionalmente con el siguiente ejemplo.\n",
    "\n",
    "<p float=\"center\">\n",
    "  <img src=\"https://github.com/carlosalvarezh/Modelamiento_y_Simulacion/blob/main/Figs/S06_F11_algo_ex.jpeg?raw=true\" width=\"400\" />\n",
    "</p>\n",
    "\n",
    "<div style=\"text-align: right\"> Fuente: <a href=\"https://tiberiomurciagodoy.blogspot.com/2020/06/puente-pearson-por-hugo-rubio-salas.html\"></a> </div>"
   ]
  },
  {
   "cell_type": "markdown",
   "metadata": {},
   "source": [
    "### Preprocesamiento"
   ]
  },
  {
   "cell_type": "markdown",
   "metadata": {},
   "source": [
    "#### Especificación de la malla"
   ]
  },
  {
   "cell_type": "markdown",
   "metadata": {},
   "source": [
    "La malla consta de vértices que definen coordenadas nodales y una tabla de conectividad de elementos que especifica cómo se conectan los vértices."
   ]
  },
  {
   "cell_type": "markdown",
   "metadata": {},
   "source": [
    "#### Tabla de conectividades"
   ]
  },
  {
   "cell_type": "markdown",
   "metadata": {},
   "source": [
    "Para sistemas complejos, especialmente en dimensiones más altas, ensamblar manualmente la matriz de rigidez global sería tedioso y propenso a errores. Para evitar errores en un código FEM usamos una tabla de conectividad, una tabla de búsqueda que contiene los nodos asociados con cada elemento.\n",
    "\n",
    "El elemento de conectividad para nuestro ejemplo es\n",
    "\n",
    "| Número de Elemento | Nodo i | Nodo j |\n",
    "| :----------------: |:------:| :-----:|\n",
    "| 1                  | 1      | 3      | \n",
    "| 2                  | 3      | 4      |\n",
    "| 3                  | 4      | 2      |"
   ]
  },
  {
   "cell_type": "markdown",
   "metadata": {},
   "source": [
    "#### Vertices"
   ]
  },
  {
   "cell_type": "markdown",
   "metadata": {},
   "source": [
    "Las coordenadas nodales (vértices) se dan como una matriz de coordenadas nodales. Para nuestro ejemplo tenemos\n",
    "\n",
    "En general, para una malla 3D tenemos\n",
    "\n",
    "|Nodo|Coordenada|\n",
    "|:--:|:--------:|\n",
    "| 1  |$0.$|\n",
    "| 2  |$3.$|\n",
    "| 3  |$1.$|\n",
    "| 4  |$2.$|\n",
    "\n",
    "Las etiquetas de nodo en la primera columna deben corresponder a las etiquetas de nodo apropiadas en la tabla de conectividad. Pero no es necesario que se proporcionen en orden ascendente de nodos como se muestra. Alternativamente, podríamos ordenar las coordenadas nodales como\n",
    "\n",
    "|Nodo|Coordenada|\n",
    "|:--:|:--------:|\n",
    "| 1  |$0.$|\n",
    "| 3  |$1.$|\n",
    "| 4  |$2.$|\n",
    "| 2  |$3.$|\n",
    "\n",
    "siempre que haya una forma de mapear la etiqueta del nodo con el índice apropiado de la matriz de vértices. El mecanismo con el que esto logró el uso de un mapa de nodos que mapea las etiquetas de los nodos al índice apropiado en la matriz de vértices nodales. Por ejemplo, se podrían pasar las coordenadas nodales de la columna derecha de la tabla anterior y la columna de la izquierda como mapa de nodos. El programa de elementos finitos usaría el mapa de nodos para buscar la ubicación de los vértices de un nodo."
   ]
  },
  {
   "cell_type": "markdown",
   "metadata": {},
   "source": [
    "### Restricciones y cargas"
   ]
  },
  {
   "cell_type": "markdown",
   "metadata": {},
   "source": [
    "Las restricciones y cargas se especifican de tal manera que el programa puede aplicar la restricción o carga apropiada para corregir el nodo, el grado de libertad local y con la magnitud correcta. Existen varias formas de pasar esta información a un programa, una forma es con una matriz de la siguiente forma\n",
    "\n",
    "    a = [(etiqueta nodal de la restricción/carga 1, 'x' 'y' or 'z', magnitud 1),\n",
    "         (etiqueta nodal de la restricción/carga 2, 'x' 'y' or 'z', magnitud 2),\n",
    "                                            .\n",
    "                                            .\n",
    "                                            .\n",
    "         (etiqueta nodal de la restricción/carga n, 'x' 'y' or 'z', magnitud n)]\n",
    "         \n",
    "Cada fila contiene la información necesaria para aplicar una restricción o carga a un nodo apropiado. Tenga en cuenta que en nuestros ejemplos 1D, el grado local de libertad está restringido a ser solo '`x`'. Esta restricción se relaja cuando pasamos a más de una dimensión."
   ]
  },
  {
   "cell_type": "markdown",
   "metadata": {},
   "source": [
    "### Fase de la solución"
   ]
  },
  {
   "cell_type": "markdown",
   "metadata": {},
   "source": [
    "#### Ensamblaje de las ecuaciones globales"
   ]
  },
  {
   "cell_type": "markdown",
   "metadata": {},
   "source": [
    "Las rigideces de los elementos individuales deben \"ensamblarse\" o mapearse en la rigidez global en las ubicaciones apropiadas. Podemos usar la información en la tabla de conectividad del sistema para generar el mapeo apropiado. Primero considere la siguiente pregunta\n",
    "\n",
    "***P:*** ¿Cómo podemos saber mediante inspección si la matriz de rigidez es correcta?\n",
    "\n",
    "***R:*** Mira la $i$-ésima fila y la $j$-ésima columna de $K$\n",
    "\n",
    "- Los términos en la posición $i$-ésima de la diagonal principal deben ser la suma de la rigidez de cada elemento conectado al $i$-ésimo grado de libertad.\n",
    "\n",
    "\n",
    "- Los términos fuera de la diagonal en la posición $i$, $j$ deben ser el negativo de la rigidez de los grados de libertad $i$ y $j$ de conexión del elemento.\n",
    "\n",
    "\n",
    "- La rigidez debe ser simétrica\n",
    "\n",
    "Con eso en mente, el algoritmo para generar la matriz de rigidez es:\n",
    "\n",
    "    K = 0\n",
    "    k = [k1, k2, k3, ..., kn]\n",
    "    for all elements\n",
    "      determine global index I of node i of element\n",
    "      determine global index J of node j of element\n",
    "      K[I, I] = K[I, I] + k[el]\n",
    "      K[J, J] = K[J, J] + k[el]\n",
    "      K[I, J] = K[I, J] - k[el]\n",
    "      K[J, I] = K[J, I] - k[el]\n",
    "    \n",
    "El algoritmo presentado es extremadamente ineficiente y se puede optimizar, pero la optimización es el trabajo de los informáticos. Como ingenieros, buscamos la respuesta correcta como ejercicio de aprendizaje. En este algoritmo, los índices globales $i$ y $j$ están determinados por el mapeo de nodos, discutido anteriormente.\n",
    "\n",
    "La fuerza global se ensambla de manera similar... "
   ]
  },
  {
   "cell_type": "markdown",
   "metadata": {},
   "source": [
    "### Aplicación de las condiciones de contorno"
   ]
  },
  {
   "cell_type": "markdown",
   "metadata": {},
   "source": [
    "A continuación, implementamos los conceptos aprendidos en un código conciso para determinar los desplazamientos nodales. Primero revisemos la cuestión de la imposición de condiciones de frontera. En el método de sustitución vimos que la rigidez global resultante no era simétrica. Para sistemas grandes, esto se vuelve problemático porque resolver ecuaciones no simétricas es mucho más caro que simétrico. Pero el método de sustitución es fácil de implementar y no hay pérdida de precisión como en el método de penalización. Modifiquemos el método de sustitución para que el sistema de ecuaciones permanezca simétrico. Veamos el Ejemplo 3. Tuvimos:\n",
    "\n",
    "$$\n",
    "\\begin{bmatrix}\n",
    "k_1 & -k_1 & 0 \\\\ \n",
    "-k_1 & k_1 + k_2 & -k2 \\\\ \n",
    "0 & -k2 & k2\n",
    "\\end{bmatrix}\n",
    "\\begin{Bmatrix}\n",
    "u_1 \\\\ \n",
    "u_2 \\\\ \n",
    "u_3\n",
    "\\end{Bmatrix}\n",
    "=\n",
    "\\begin{Bmatrix}\n",
    "R_1 \\\\ \n",
    "0 \\\\ \n",
    "R_3\n",
    "\\end{Bmatrix} \\Longrightarrow\n",
    "\\begin{bmatrix}\n",
    "1 & 0 & 0 \\\\ \n",
    "-k_1 & k_1 + k_2 & -k2 \\\\ \n",
    "0 & 0 & 1\n",
    "\\end{bmatrix}\n",
    "\\begin{Bmatrix}\n",
    "u_1 \\\\ \n",
    "u_2 \\\\ \n",
    "u_3\n",
    "\\end{Bmatrix}\n",
    "=\n",
    "\\begin{Bmatrix}\n",
    "\\delta_1 \\\\ \n",
    "0 \\\\ \n",
    "\\delta_3\n",
    "\\end{Bmatrix}\n",
    "$$\n",
    "\n",
    "donde $\\delta_1$ y $\\delta_3$ son los desplazamientos conocidos.\n",
    "\n",
    "Pero nos gustaría que el sistema final fuera simétrico. Obtenemos el objetivo estableciendo cada entrada en la primera y tercera columnas (aparte de la diagonal) en cero, de modo que la rigidez sea simétrica. Recuerde que podemos sumar y restar ecuaciones en el sistema sin afectar la solución. Por lo tanto, para simetrizar la matriz de rigidez en nuestro ejemplo, podemos restar los múltiplos apropiados de la primera y tercera filas para establecer cada entrada en la primera y tercera columnas en cero.\n",
    "\n",
    "$$\n",
    "\\begin{bmatrix}\n",
    "1 & 0 & 0 \\\\ \n",
    "0 & k_1 + k_2 & 0 \\\\ \n",
    "0 & 0 & 1\n",
    "\\end{bmatrix}\n",
    "\\begin{Bmatrix}\n",
    "u_1 \\\\ \n",
    "u_2 \\\\ \n",
    "u_3\n",
    "\\end{Bmatrix}\n",
    "=\n",
    "\\begin{Bmatrix}\n",
    "0 \\\\ \n",
    "k_1 \\delta_1 + k_2\\delta_3 \\\\ \n",
    "\\delta\n",
    "\\end{Bmatrix}\n",
    "$$\n",
    "\n",
    "Compara ecuaciones para convencerte de que esto es correcto.\n",
    "\n",
    "Generalmente, la sustitución simétrica sigue como\n",
    "\n",
    "Para un desplazamiento conocido $\\delta_m$ aplicado en el nodo $m$\n",
    "\n",
    "$$\n",
    "\\begin{align}\n",
    "F_i &= F_i − \\sum_{i=1, i\\neq m}^N K_{im}\\delta_m \\\\\n",
    "F_m &= \\delta_m \\\\\n",
    "K_{mj} &= 0, \\quad j=1\\ldots{}N \\\\\n",
    "K_{im} &= 0, \\quad i=1\\ldots{}N \\\\\n",
    "K_{mm} &= 1\n",
    "\\end{align}\n",
    "$$\n"
   ]
  },
  {
   "cell_type": "markdown",
   "metadata": {},
   "source": [
    "## Código de Elemento finito lineal"
   ]
  },
  {
   "cell_type": "markdown",
   "metadata": {},
   "source": [
    "Consulte `femlib.ifem.solve_system` para obtener el código."
   ]
  },
  {
   "cell_type": "code",
   "execution_count": null,
   "metadata": {},
   "outputs": [],
   "source": [
    "#%load femlib/ifem.py"
   ]
  },
  {
   "cell_type": "markdown",
   "metadata": {},
   "source": [
    "<div class=\"msg msg-success\">\n",
    "Consulte la nueva función 'enumerar' introducida en el código anterior. enumerar(algo), donde algo es una secuencia, devuelve un iterador que devolverá (0, algo[0]), (1, algo[1]), (2, algo[2]), y así sucesivamente. \n",
    "\n",
    "Un modismo común para cambiar todos los elementos de una lista se ve así:\n",
    "\n",
    "<p>\n",
    "for i in range(len(L)):<br>\n",
    "&emsp;&emsp;    item = L[i] <br>\n",
    "&emsp;&emsp;    # ... compute some result based on item ...<br>\n",
    "&emsp;&emsp;    L[i] = result<br>\n",
    "<p>\n",
    "This can be rewritten using enumerate() as:<br>\n",
    "<p>\n",
    "for i, item in enumerate(L):<br>\n",
    "&emsp;&emsp;    # ... compute some result based on item ...<br>\n",
    "&emsp;&emsp;    L[i] = result<br>\n",
    "<p>    \n",
    "consulte la documentación de <a href=\"https://docs.python.org/2/library/functions.html#enumerate\"> enumerate </a>\n",
    "</div>"
   ]
  },
  {
   "cell_type": "markdown",
   "metadata": {},
   "source": [
    "### Ejemplo completo"
   ]
  },
  {
   "cell_type": "markdown",
   "metadata": {},
   "source": [
    "Recuerde nuestro problema de ejemplo\n",
    "\n",
    "<p float=\"center\">\n",
    "  <img src=\"https://github.com/carlosalvarezh/Modelamiento_y_Simulacion/blob/main/Figs/S06_F11_algo_ex.jpeg?raw=true\" width=\"400\" />\n",
    "</p>\n",
    "\n",
    "<div style=\"text-align: right\"> Fuente: <a href=\"https://tiberiomurciagodoy.blogspot.com/2020/06/puente-pearson-por-hugo-rubio-salas.html\"></a> </div>\n",
    "\n",
    "Usando `femlib.ifem.solve_system`, la solución para los desplazamientos y reacciones desconocidos viene dada por"
   ]
  },
  {
   "cell_type": "code",
   "execution_count": 19,
   "metadata": {},
   "outputs": [
    {
     "name": "stdout",
     "output_type": "stream",
     "text": [
      "u = [ 0.          0.90909091  1.36363636  0.        ]\n",
      "r = [ -9.09090909e+02   0.00000000e+00  -1.81898940e-12  -4.09090909e+03]\n"
     ]
    }
   ],
   "source": [
    "# Solution of the example problem\n",
    "from femlib.ifem import solve_system\n",
    "vertices = np.array([0., 1., 2., 3.])\n",
    "node_map = [1, 3, 4, 2]\n",
    "connect = np.array([[1, 1, 3],\n",
    "                    [2, 3, 4],\n",
    "                    [3, 4, 2]])\n",
    "k = [1000, 2000, 3000]\n",
    "F4x = 5000\n",
    "cfs = [(4, 'x', F4x)]\n",
    "bcs = [(1, 'x', 0), (2, 'x', 0)]\n",
    "\n",
    "u, r = solve_system(vertices, connect, k, bcs, cfs, node_map)\n",
    "print 'u =', u\n",
    "print 'r =', r"
   ]
  },
  {
   "cell_type": "code",
   "execution_count": 21,
   "metadata": {},
   "outputs": [
    {
     "name": "stdout",
     "output_type": "stream",
     "text": [
      "-0.0\n"
     ]
    }
   ],
   "source": [
    "# sum of reactions and force should be 0\n",
    "print round(np.sum(r) + F4x)"
   ]
  },
  {
   "cell_type": "markdown",
   "metadata": {},
   "source": [
    "### Un código de barras uniforme"
   ]
  },
  {
   "cell_type": "markdown",
   "metadata": {},
   "source": [
    "Una parte importante de la mecánica computacional es el uso de bibliotecas / código existentes. Hacerlo ahorra tiempo / recursos y nos permite concentrarnos en partes más específicas de nuestros propios códigos. Usemos el ejemplo de código anterior para escribir un código de barras uniforme 1D de propósito especial. Vea `apps/uniformbar.py` para la implementación.\n",
    "\n",
    "Reutilizar el código existente nos permitió escribir una nueva aplicación con solo 5 o más líneas de código."
   ]
  },
  {
   "cell_type": "code",
   "execution_count": null,
   "metadata": {},
   "outputs": [],
   "source": []
  }
 ],
 "metadata": {
  "kernelspec": {
   "display_name": "Python 3",
   "language": "python",
   "name": "python3"
  },
  "language_info": {
   "codemirror_mode": {
    "name": "ipython",
    "version": 3
   },
   "file_extension": ".py",
   "mimetype": "text/x-python",
   "name": "python",
   "nbconvert_exporter": "python",
   "pygments_lexer": "ipython3",
   "version": "3.6.13"
  },
  "toc": {
   "base_numbering": 1,
   "nav_menu": {},
   "number_sections": true,
   "sideBar": true,
   "skip_h1_title": true,
   "title_cell": "Tabla de contenidos",
   "title_sidebar": "Contenidos",
   "toc_cell": true,
   "toc_position": {
    "height": "calc(100% - 180px)",
    "left": "10px",
    "top": "150px",
    "width": "165px"
   },
   "toc_section_display": true,
   "toc_window_display": false
  }
 },
 "nbformat": 4,
 "nbformat_minor": 1
}
